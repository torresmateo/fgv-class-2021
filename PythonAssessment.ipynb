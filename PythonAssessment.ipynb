{
 "cells": [
  {
   "cell_type": "markdown",
   "id": "incredible-embassy",
   "metadata": {},
   "source": [
    "# Python assessment\n",
    "\n",
    "This notebook is intended to assess your knowledge of Python, as well as three popular tools: numpy, pandas, and scikit-learn.\n",
    "\n",
    "Don't worry if you don't finish the entire notebook, this is simply for us to assess what content to include on the upcoming python tutorials.\n",
    "\n",
    "Each exercise is designed to assess some of your knowledge in plain python, or particular aspects of how to use one of these libraries.\n",
    "Please attempt to do at least the first 3 exercises. From exercise 4 onwards, if you think it is particularly difficult, feel free to skip the exercise and go to the next one."
   ]
  },
  {
   "cell_type": "code",
   "execution_count": null,
   "id": "vital-holiday",
   "metadata": {},
   "outputs": [],
   "source": [
    "# Only run this cell if you're using Google Colab\n",
    "\n",
    "!git clone https://github.com/torresmateo/fgv-class-2021.git\n",
    "!cp -r fgv-class-2021/data .\n",
    "!cp -r fgv-class-2021/utils.py ."
   ]
  },
  {
   "cell_type": "markdown",
   "id": "loaded-potential",
   "metadata": {},
   "source": [
    "## Excercise 0: import modules <a id='ex1'></a> \n",
    "\n",
    "Please import the following functions:\n",
    "* `pandas` with the `pd` alias.\n",
    "* `numpy` with the `np` alias.\n"
   ]
  },
  {
   "cell_type": "code",
   "execution_count": null,
   "id": "adjacent-motorcycle",
   "metadata": {},
   "outputs": [],
   "source": [
    "import matplotlib.pyplot as plt\n",
    "import seaborn as sns\n",
    "from utils import *\n",
    "# your code here (~2 lines)"
   ]
  },
  {
   "cell_type": "markdown",
   "id": "educated-location",
   "metadata": {},
   "source": [
    "# Exercise 1: create a random matrices in numpy\n",
    "\n",
    "Create the following matrices in numpy:\n",
    "* An identity matrix of shape `(10,10)` into the variable `I`\n",
    "* A random integer matrix  where values are in the range `[0,100]` of shape `(5,5)` into the variable `A` \n",
    "* A random float matrix where values are in the range `[0,1]` of shape `(5,5)` into the variable `B`\n",
    "* Use `B` to calculate $C = BB^T$ and store the result into the variable `C`\n",
    "* Invert `C` and store the inverted matrix into `C_inv`\n",
    "* Transpose `A` and store the transposed matrix into `A_T`"
   ]
  },
  {
   "cell_type": "code",
   "execution_count": null,
   "id": "knowing-pennsylvania",
   "metadata": {},
   "outputs": [],
   "source": [
    "np.random.seed(0)\n",
    "\n",
    "# your code here (replace None with your answer)\n",
    "I = None\n",
    "A = None\n",
    "B = None\n",
    "C = None\n",
    "C_inv = None\n",
    "A_T = None\n",
    "\n",
    "ex_1_vars = [I, A, A_T, B, C, C_inv, C @ C_inv]"
   ]
  },
  {
   "cell_type": "code",
   "execution_count": null,
   "id": "moved-steering",
   "metadata": {},
   "outputs": [],
   "source": [
    "plot_ex1(ex_1_vars)"
   ]
  },
  {
   "cell_type": "markdown",
   "id": "homeless-intensity",
   "metadata": {},
   "source": [
    "### Expected output:\n",
    "\n",
    "![expected image ex 1](ex1.png \"Expected output ex 1\")\n",
    "```\n",
    "```"
   ]
  },
  {
   "cell_type": "markdown",
   "id": "valuable-blind",
   "metadata": {},
   "source": [
    "## Excercise 2: numpy and list operators\n",
    "\n",
    "Starting from the provided matrices `A` and `B`, perform the following operations, and add the results into the `ex_2_vars` variable:\n",
    "\n",
    "* dot product between `A` and `B`\n",
    "* element-wise multiplication between `A` and `B`\n",
    "* vector of row-wise sum of `A`\n",
    "* vector of column-wise mean of `B`\n"
   ]
  },
  {
   "cell_type": "code",
   "execution_count": null,
   "id": "current-plumbing",
   "metadata": {},
   "outputs": [],
   "source": [
    "np.random.seed(0)\n",
    "A = np.random.rand(10, 10)\n",
    "B = np.random.rand(10, 10)\n",
    "\n",
    "ex_2_vars = []\n",
    "# your code here (~4 lines)\n"
   ]
  },
  {
   "cell_type": "code",
   "execution_count": null,
   "id": "utility-posting",
   "metadata": {},
   "outputs": [],
   "source": [
    "plot_ex2(ex_2_vars)"
   ]
  },
  {
   "cell_type": "markdown",
   "id": "bored-valley",
   "metadata": {},
   "source": [
    "### Expected output:\n",
    "\n",
    "![expected image ex 2](ex2.png \"Expected output ex 2\")\n",
    "\n",
    "```\n",
    "[array([5.28539835, 5.35380972, 5.6034787 , 5.13354102, 3.29925204,\n",
    "       3.67902113, 4.29030669, 3.99955955, 6.52812667, 4.10689007]), array([0.5810242 , 0.65373969, 0.51279199, 0.4952426 , 0.68347771,\n",
    "       0.46202251, 0.58440466, 0.38212016, 0.53170837, 0.39428567])]\n",
    "```"
   ]
  },
  {
   "cell_type": "markdown",
   "id": "magnetic-avenue",
   "metadata": {},
   "source": [
    "## Excercise 3: sampling\n",
    "\n",
    "* Sample 1000 points at random from a **uniform** distribution in 2 dimensions in the range $[30, 50]$ for $x$ and $[25,45]$ for $y$. Store the values in variable `uniform_sample` with shape `(1000, 2)`\n",
    "* Sample 1000 points at random from a **normal** distribution in 2 dimensions in with mean at $(15,10)$ and standard deviaton of `1.5`. Store the values in variable `normal_sample` with shape `(1000, 2)`\n",
    "* Sample 5000 points at random from a **normal** distribution in **3** dimensions with mean at the origin and standard deviaton of `1`. Keep only the points where all components are positive. Normalize the points so that their norm is 1. Store the values in a variable `normal_sample_3d` with shape `(1000,3)`"
   ]
  },
  {
   "cell_type": "code",
   "execution_count": null,
   "id": "stupid-expense",
   "metadata": {},
   "outputs": [],
   "source": [
    "np.random.seed(0)\n",
    "# your code here (~6 lines)\n"
   ]
  },
  {
   "cell_type": "code",
   "execution_count": null,
   "id": "together-nashville",
   "metadata": {},
   "outputs": [],
   "source": [
    "plot_ex3(uniform_sample, normal_sample, normal_sample_3d)"
   ]
  },
  {
   "cell_type": "markdown",
   "id": "promising-office",
   "metadata": {},
   "source": [
    "### Expected output:\n",
    "\n",
    "![expected image ex 3](ex3.png \"Expected output ex 2\")"
   ]
  },
  {
   "cell_type": "markdown",
   "id": "fresh-specification",
   "metadata": {},
   "source": [
    "## Excercise 4: data wrangling with pandas\n",
    "\n",
    "Load the file `data/clinical_trials-raw.tsv` into a pandas DataFrame in a variable called `trials`, and perform the following operations on the data:\n",
    "\n",
    "* Keep only the studies where the `Phases` column has one of these values: `Phase 2`, `Phase 3`, `Phase 4`\n",
    "* Add a `date` column that casts the `Start Date` column as values with type `datetime` \n",
    "* The `Interventions` column is a list separated by the character `|`. Add a column `interventions_list` to the DataFrame that has the same information as a lists\n",
    "* extract all the interventions into a variable `interventions_unique`, the variable should not contain duplicated entries.\n",
    "* Use `interventions_unique` to make a list of all the interventions involving a drug. Store the list of drugs into a `drugs` variable. You should only store the drug name.\n",
    "* Add a `age_clean` column to the dataset, and populate it using values from the `Age` column. You should include only the values `Child`, `Adult`, and `Older Adult` as a list."
   ]
  },
  {
   "cell_type": "code",
   "execution_count": null,
   "id": "white-martin",
   "metadata": {},
   "outputs": [],
   "source": [
    "# your code here (~15 lines)\n"
   ]
  },
  {
   "cell_type": "code",
   "execution_count": null,
   "id": "cathedral-dictionary",
   "metadata": {},
   "outputs": [],
   "source": [
    "plot_ex4(interventions_unique, drugs, trials)"
   ]
  },
  {
   "cell_type": "markdown",
   "id": "coordinate-bradford",
   "metadata": {},
   "source": [
    "### Expected output:\n",
    "\n",
    "![expected image ex 4](ex4.png \"Expected output ex 4\")\n",
    "\n",
    "```\n",
    "Number of Interventions: 1306\n",
    "Number of Drugs: 912\n",
    "```"
   ]
  },
  {
   "cell_type": "markdown",
   "id": "cardiac-dragon",
   "metadata": {},
   "source": [
    "## Excercise 5: advanced data wrangling\n",
    "\n",
    "Load the file `data/drugbank.pkl` into a pandas DataFrame in a variable called `drugbank`, and perform the following operations on the data (**note:** *the file is in long format*):\n",
    "\n",
    "* Create a new DataFrame `approved` that only contains drugs that have the `Group` value as `approved`\n",
    "* Use the `approved` DataFrame to create a new DataFrame `drugbank_wide` that has the following columns:\n",
    "    * `DrugBank ID`\n",
    "    * `Name`\n",
    "    * `Target Count` (you will need to calculate this value)\n",
    "    * `Top ATC` (the top ATC is the **first character** of the `ATC` variable. If no ATC is available, use the value `'NOT FOUND'`\n",
    "    \n",
    "\n",
    "<details>\n",
    "    <summary>HINTS</summary>\n",
    "    <ul>\n",
    "        <li>Use the <a href=\"https://pandas.pydata.org/pandas-docs/stable/reference/api/pandas.DataFrame.set_index.html\"><code>set_index</code></a> function and set the <code>DrugBank ID</code> column as the DataFrame index.</li>\n",
    "        <li>The following functions will be very useful in this situation:\n",
    "            <ul>\n",
    "                <li><a href=\"https://pandas.pydata.org/pandas-docs/stable/reference/api/pandas.DataFrame.join.html\"><code>join</code></a></li>\n",
    "                <li><a href=\"https://pandas.pydata.org/pandas-docs/stable/reference/api/pandas.DataFrame.drop.html\"><code>drop</code></a></li>\n",
    "                <li><a href=\"https://pandas.pydata.org/pandas-docs/stable/reference/api/pandas.DataFrame.rename.html\"><code>rename</code></a></li>\n",
    "            </ul>\n",
    "        </li>\n",
    "    </ul>\n",
    "</details>\n"
   ]
  },
  {
   "cell_type": "code",
   "execution_count": null,
   "id": "institutional-dispatch",
   "metadata": {},
   "outputs": [],
   "source": [
    "# your code here(~12 lines)\n"
   ]
  },
  {
   "cell_type": "code",
   "execution_count": null,
   "id": "protected-sight",
   "metadata": {},
   "outputs": [],
   "source": [
    "plot_ex5(drugbank_wide, drugbank)"
   ]
  },
  {
   "cell_type": "markdown",
   "id": "synthetic-virtue",
   "metadata": {},
   "source": [
    "### Expected output:\n",
    "\n",
    "![expected image ex 5](ex5.png \"Expected output ex 5\")"
   ]
  },
  {
   "cell_type": "markdown",
   "id": "equal-shirt",
   "metadata": {},
   "source": [
    "## Excercise 6: clustering with scikit-learn\n",
    "\n",
    "For this excercise, you will need to import the required components of scikit-learn\n",
    "\n",
    "* Load the iris dataset \n",
    "* split the dataset into training and testing using `train_test_split`. (set `random_state=0`)\n",
    "* Train a decision tree classiffier (set `random_state=0`)\n",
    "* Plot a confusion matrix of the results\n",
    "* On another cell, plot the decision tree"
   ]
  },
  {
   "cell_type": "code",
   "execution_count": null,
   "id": "wrong-adventure",
   "metadata": {},
   "outputs": [],
   "source": [
    "# your code here (~10 lines)\n"
   ]
  },
  {
   "cell_type": "markdown",
   "id": "hispanic-feature",
   "metadata": {},
   "source": [
    "### Expected output:\n",
    "```\n",
    "<sklearn.metrics._plot.confusion_matrix.ConfusionMatrixDisplay at ...>\n",
    "```\n",
    "\n",
    "![expected image ex 6-1](ex6-1.png \"Expected output ex 6\")"
   ]
  },
  {
   "cell_type": "code",
   "execution_count": null,
   "id": "minor-anxiety",
   "metadata": {},
   "outputs": [],
   "source": [
    "plt.figure(figsize = (4,8))\n",
    "# your code here (1 line)\n"
   ]
  },
  {
   "cell_type": "markdown",
   "id": "greatest-provision",
   "metadata": {},
   "source": [
    "### Expected output:\n",
    "```\n",
    "[Text(89.28, 391.392, 'X[3] <= 0.75\\ngini = 0.663\\nsamples = 90\\nvalue = [34, 27, 29]'),\n",
    " Text(44.64, 304.416, 'gini = 0.0\\nsamples = 34\\nvalue = [34, 0, 0]'),\n",
    " Text(133.92000000000002, 304.416, 'X[2] <= 5.05\\ngini = 0.499\\nsamples = 56\\nvalue = [0, 27, 29]'),\n",
    " Text(89.28, 217.44, 'X[3] <= 1.75\\ngini = 0.128\\nsamples = 29\\nvalue = [0, 27, 2]'),\n",
    " Text(44.64, 130.464, 'gini = 0.0\\nsamples = 26\\nvalue = [0, 26, 0]'),\n",
    " Text(133.92000000000002, 130.464, 'X[1] <= 3.1\\ngini = 0.444\\nsamples = 3\\nvalue = [0, 1, 2]'),\n",
    " Text(89.28, 43.488, 'gini = 0.0\\nsamples = 2\\nvalue = [0, 0, 2]'),\n",
    " Text(178.56, 43.488, 'gini = 0.0\\nsamples = 1\\nvalue = [0, 1, 0]'),\n",
    " Text(178.56, 217.44, 'gini = 0.0\\nsamples = 27\\nvalue = [0, 0, 27]')]\n",
    "```\n",
    "\n",
    "![expected image ex 6-2](ex6-2.png \"Expected output ex 6-2\")"
   ]
  }
 ],
 "metadata": {
  "kernelspec": {
   "display_name": "Python 3",
   "language": "python",
   "name": "python3"
  },
  "language_info": {
   "codemirror_mode": {
    "name": "ipython",
    "version": 3
   },
   "file_extension": ".py",
   "mimetype": "text/x-python",
   "name": "python",
   "nbconvert_exporter": "python",
   "pygments_lexer": "ipython3",
   "version": "3.9.1"
  }
 },
 "nbformat": 4,
 "nbformat_minor": 5
}
