{
 "cells": [
  {
   "cell_type": "markdown",
   "metadata": {
    "id": "political-billy"
   },
   "source": [
    "# Avaliação Python\n",
    "\n",
    "Este *notebook* tem o objetivo de avaliar seu conhecimento em Python, bem como em três ferramentas populares: numpy, pandas e scikit-learn.\n",
    "\n",
    "Não se preocupe se você não terminar o *notebook* inteiro, ele serve simplesmente para avaliarmos qual conteúdo incluir nos próximos tutoriais de Python.\n",
    "\n",
    "Cada exercício é projetado para avaliar alguns de seus conhecimentos básicos em python ou aspectos específicos de como usar uma das bibliotecas.\n",
    "Tente fazer pelo menos os 3 primeiros exercícios. Do exercício 4 em diante, se você o achar particularmente difícil, fique à vontade para pular o exercício e passar para o próximo."
   ]
  },
  {
   "cell_type": "code",
   "execution_count": null,
   "metadata": {
    "id": "mineral-alexandria"
   },
   "outputs": [],
   "source": [
    "# Só execute esta célula se você estiver usando o Google Colab\n",
    "\n",
    "!git clone https://github.com/torresmateo/fgv-class-2021.git\n",
    "!cp -r fgv-class-2021/data .\n",
    "!cp -r fgv-class-2021/utils.py ."
   ]
  },
  {
   "cell_type": "markdown",
   "metadata": {
    "id": "aquatic-wedding"
   },
   "source": [
    "## Exercício 0: importar módulos <a id='ex1'></a> \n",
    "\n",
    "Por favor, importe os seguintes módulos\n",
    "* `pandas` com o alias `pd`\n",
    "* `numpy` com o alias `np`\n"
   ]
  },
  {
   "cell_type": "code",
   "execution_count": null,
   "metadata": {
    "id": "entitled-opportunity"
   },
   "outputs": [],
   "source": [
    "import matplotlib.pyplot as plt\n",
    "import seaborn as sns\n",
    "from utils import *\n",
    "# v"
   ]
  },
  {
   "cell_type": "markdown",
   "metadata": {
    "id": "adjacent-horizontal"
   },
   "source": [
    "# Exercício 1: criar matrizes aleatórias em numpy\n",
    "\n",
    "Crie as seguintes matrizes em numpy:\n",
    "* Uma matriz identidade de dimensões `(10,10)` na variável `I`\n",
    "* Uma matriz aleatória do tipo `int` com valores no intervalo `[0,100]` e dimensões `(5,5)` na variável `A`\n",
    "* Uma matriz aleatória do tipo `float` com valores no intervalo `[0,1]` e dimensões `(5,5)` na variável `B`\n",
    "* Use `B` para calcular $ C = BB ^ T $ e armazene o resultado na variável `C`\n",
    "* Inverta `C` e armazene a matriz invertida em `C_inv`\n",
    "* Transponha `A` e armazene a matriz transposta em `A_T`"
   ]
  },
  {
   "cell_type": "code",
   "execution_count": null,
   "metadata": {
    "id": "tamil-burns"
   },
   "outputs": [],
   "source": [
    "np.random.seed(0)\n",
    "\n",
    "# seu código aqui (substitua None pela sua resposta)\n",
    "I = None\n",
    "A = None\n",
    "B = None\n",
    "C = None\n",
    "C_inv = None\n",
    "A_T = None\n",
    "\n",
    "ex_1_vars = [I, A, A_T, B, C, C_inv, C @ C_inv]"
   ]
  },
  {
   "cell_type": "code",
   "execution_count": null,
   "metadata": {
    "id": "entire-broad"
   },
   "outputs": [],
   "source": [
    "plot_ex1(ex_1_vars)"
   ]
  },
  {
   "cell_type": "markdown",
   "metadata": {
    "id": "alpha-means"
   },
   "source": [
    "### Saída esperada:\n",
    "\n",
    "![expected image ex 1](ex1.png \"Expected output ex 1\")\n",
    "```\n",
    "```"
   ]
  },
  {
   "cell_type": "markdown",
   "metadata": {
    "id": "diverse-restoration"
   },
   "source": [
    "## Exercício 2: operadores numpy e list\n",
    "\n",
    "Começando com as matrizes fornecidas `A` e` B`, execute as seguintes operações e adicione os resultados na variável `ex_2_vars`:\n",
    "\n",
    "* produto escalar entre `A` e` B`\n",
    "* multiplicação elemento a elemento entre `A` e` B`\n",
    "* vetor da soma das linhas de `A`\n",
    "* vetor da média das colunas de `B`\n"
   ]
  },
  {
   "cell_type": "code",
   "execution_count": null,
   "metadata": {
    "id": "loose-fancy"
   },
   "outputs": [],
   "source": [
    "np.random.seed(0)\n",
    "A = np.random.rand(10, 10)\n",
    "B = np.random.rand(10, 10)\n",
    "\n",
    "ex_2_vars = []\n",
    "# seu código aqui (~4 linhas)\n"
   ]
  },
  {
   "cell_type": "code",
   "execution_count": null,
   "metadata": {
    "id": "universal-vessel"
   },
   "outputs": [],
   "source": [
    "plot_ex2(ex_2_vars)"
   ]
  },
  {
   "cell_type": "markdown",
   "metadata": {
    "id": "decent-family"
   },
   "source": [
    "### Saída esperada:\n",
    "\n",
    "![expected image ex 2](ex2.png \"Expected output ex 2\")\n",
    "\n",
    "```\n",
    "[array([5.28539835, 5.35380972, 5.6034787 , 5.13354102, 3.29925204,\n",
    "       3.67902113, 4.29030669, 3.99955955, 6.52812667, 4.10689007]), array([0.5810242 , 0.65373969, 0.51279199, 0.4952426 , 0.68347771,\n",
    "       0.46202251, 0.58440466, 0.38212016, 0.53170837, 0.39428567])]\n",
    "```"
   ]
  },
  {
   "cell_type": "markdown",
   "metadata": {
    "id": "synthetic-romania"
   },
   "source": [
    "## Exercício 3: amostragem\n",
    "\n",
    "* Amostra 1000 pontos aleatoriamente de uma distribuição **uniforme** em 2 dimensões no intervalo $[30, 50]$ para $x$, e $[25,45]$ para $y$. Armazene os valores na variável `uniform_sample` com dimensões `(1000, 2)`\n",
    "* Amostra 1000 pontos aleatoriamente de uma distribuição **normal** em 2 dimensões com média em $(15,10)$ e desvio padrão de `1,5`. Armazene os valores na variável `normal_sample` com dimensões `(1000, 2) `\n",
    "* Amostra 5000 pontos aleatoriamente de uma distribuição **normal** em **3** dimensões com média na origem e desvio padrão de `1`. Mantenha apenas os pontos onde todos os componentes são positivos. Normalize os pontos para que sua norma seja 1. Armazene os valores em uma variável `normal_sample_3d`."
   ]
  },
  {
   "cell_type": "code",
   "execution_count": null,
   "metadata": {
    "id": "solar-convertible"
   },
   "outputs": [],
   "source": [
    "np.random.seed(0)\n",
    "# seu código aqui (~6 linhas)\n"
   ]
  },
  {
   "cell_type": "code",
   "execution_count": null,
   "metadata": {
    "id": "vietnamese-classification"
   },
   "outputs": [],
   "source": [
    "plot_ex3(uniform_sample, normal_sample, normal_sample_3d)"
   ]
  },
  {
   "cell_type": "markdown",
   "metadata": {
    "id": "metallic-district"
   },
   "source": [
    "### Saída esperada:\n",
    "\n",
    "![expected image ex 3](ex3.png \"Expected output ex 2\")"
   ]
  },
  {
   "cell_type": "markdown",
   "metadata": {
    "id": "played-nancy"
   },
   "source": [
    "## Exercício 4: gestão de dados com pandas\n",
    "\n",
    "Carregue o arquivo `data/clinic_trials-raw.tsv` em um DataFrame do pandas em uma variável chamada `trials`, e execute as seguintes operações nos dados:\n",
    "\n",
    "* Mantenha apenas os estudos em que a coluna `Phases` tenha um destes valores: `Phase 2`, `Phase 3`,` Phase 4`\n",
    "* Adicione uma coluna `date` que converte a coluna `Start Date` para valores do tipo `datetime`\n",
    "* A coluna `Interventions` é uma lista separada pelo caractere `|`. Adicione uma coluna `interventions_list` ao DataFrame que tenha as mesmas informações, mas com o tipo `list`\n",
    "* extraia todas as intervenções em uma variável `interventions_unique`, a variável não deve conter entradas duplicadas.\n",
    "* Use `interventions_unique` para fazer uma lista de todas as intervenções envolvendo uma droga. Armazene a lista de drogas em uma variável `drugs`. Você só deve armazenar o nome do medicamento.\n",
    "* Adicione uma coluna `age_clean` do tipo `list` ao conjunto de dados e preencha-a usando os valores da coluna `Age`. Você deve incluir apenas os valores `Child`, `Adult`, e `Older Adult`."
   ]
  },
  {
   "cell_type": "code",
   "execution_count": null,
   "metadata": {
    "id": "comparable-assistant"
   },
   "outputs": [],
   "source": [
    "# seu código aqui (~15 linhas)\n"
   ]
  },
  {
   "cell_type": "code",
   "execution_count": null,
   "metadata": {
    "id": "removable-paris"
   },
   "outputs": [],
   "source": [
    "plot_ex4(interventions_unique, drugs, trials)"
   ]
  },
  {
   "cell_type": "markdown",
   "metadata": {
    "id": "hollow-beginning"
   },
   "source": [
    "### Saída esperada:\n",
    "\n",
    "![expected image ex 4](ex4.png \"Expected output ex 4\")\n",
    "\n",
    "```\n",
    "Number of Interventions: 1306\n",
    "Number of Drugs: 912\n",
    "```"
   ]
  },
  {
   "cell_type": "markdown",
   "metadata": {
    "id": "short-outreach"
   },
   "source": [
    "## Exercício 5: análise avançada de dados\n",
    "\n",
    "Carregue o arquivo `data/drugbank.pkl` em um DataFrame do pandas em uma variável chamada `drugbank`, e execute as seguintes operações nos dados (**nota:** *o arquivo está em formato longo*):\n",
    "\n",
    "* Crie um novo DataFrame `approved` que contenha apenas medicamentos que tenham o valor` Group` como `approved`\n",
    "* Use o DataFrame `approved` para criar um novo DataFrame` drugbank_wide` que possua as seguintes colunas:\n",
    "     * `DrugBank ID`\n",
    "     * `Name`\n",
    "     * `Target Count` (você precisará calcular este valor)\n",
    "     * `Top ATC` (o Top ATC é o **primeiro caractere** da coluna `ATC`. Se nenhum ATC estiver disponível, use o valor `'NOT FOUND'`\n",
    "    \n",
    "<details>\n",
    "    <summary>DICAS</summary>\n",
    "    <ul>\n",
    "        <li>Use a função <a href=\"https://pandas.pydata.org/pandas-docs/stable/reference/api/pandas.DataFrame.set_index.html\"><code>set_index</code></a> e defina a coluna <code>DrugBank ID</code> como o índice do DataFrame.</li>\n",
    "        <li>As funçoes a seguir serão muito úteis nesta situaçao:\n",
    "            <ul>\n",
    "                <li><a href=\"https://pandas.pydata.org/pandas-docs/stable/reference/api/pandas.DataFrame.join.html\"><code>join</code></a></li>\n",
    "                <li><a href=\"https://pandas.pydata.org/pandas-docs/stable/reference/api/pandas.DataFrame.drop.html\"><code>drop</code></a></li>\n",
    "                <li><a href=\"https://pandas.pydata.org/pandas-docs/stable/reference/api/pandas.DataFrame.rename.html\"><code>rename</code></a></li>\n",
    "            </ul>\n",
    "        </li>\n",
    "    </ul>\n",
    "</details>\n"
   ]
  },
  {
   "cell_type": "code",
   "execution_count": null,
   "metadata": {
    "id": "loved-cleanup"
   },
   "outputs": [],
   "source": [
    "# seu código aqui (~12 linhas)\n"
   ]
  },
  {
   "cell_type": "code",
   "execution_count": null,
   "metadata": {
    "id": "living-politics"
   },
   "outputs": [],
   "source": [
    "plot_ex5(drugbank_wide, drugbank)"
   ]
  },
  {
   "cell_type": "markdown",
   "metadata": {
    "id": "partial-truck"
   },
   "source": [
    "### Expected output:\n",
    "\n",
    "![expected image ex 5](ex5.png \"Expected output ex 5\")"
   ]
  },
  {
   "cell_type": "markdown",
   "metadata": {
    "id": "endless-distance"
   },
   "source": [
    "## Exercício 6: agrupamento com scikit-learn\n",
    "\n",
    "Para este exercício, você precisará importar os módulos necessários do scikit-learn\n",
    "\n",
    "* Carregue o conjunto de dados da íris\n",
    "* divida o conjunto de dados em treinamento e teste usando `train_test_split` (defina `random_state = 0`)\n",
    "* Treine um classificador de árvore de decisão (defina `random_state = 0`)\n",
    "* Plote uma matriz de confusão dos resultados\n",
    "* Em outra célula, plote a árvore de decisão"
   ]
  },
  {
   "cell_type": "code",
   "execution_count": null,
   "metadata": {
    "id": "seventh-expense"
   },
   "outputs": [],
   "source": [
    "# seu código aqui (~10 linhas)\n"
   ]
  },
  {
   "cell_type": "markdown",
   "metadata": {
    "id": "weird-occurrence"
   },
   "source": [
    "### Saída esperada:\n",
    "```\n",
    "<sklearn.metrics._plot.confusion_matrix.ConfusionMatrixDisplay at ...>\n",
    "```\n",
    "\n",
    "![expected image ex 6-1](ex6-1.png \"Expected output ex 6\")"
   ]
  },
  {
   "cell_type": "code",
   "execution_count": null,
   "metadata": {
    "id": "pleasant-registrar"
   },
   "outputs": [],
   "source": [
    "plt.figure(figsize = (4,8))\n",
    "# seu código aqui (1 linha)\n"
   ]
  },
  {
   "cell_type": "markdown",
   "metadata": {
    "id": "challenging-blade"
   },
   "source": [
    "### Saída esperada:\n",
    "```\n",
    "[Text(89.28, 391.392, 'X[3] <= 0.75\\ngini = 0.663\\nsamples = 90\\nvalue = [34, 27, 29]'),\n",
    " Text(44.64, 304.416, 'gini = 0.0\\nsamples = 34\\nvalue = [34, 0, 0]'),\n",
    " Text(133.92000000000002, 304.416, 'X[2] <= 5.05\\ngini = 0.499\\nsamples = 56\\nvalue = [0, 27, 29]'),\n",
    " Text(89.28, 217.44, 'X[3] <= 1.75\\ngini = 0.128\\nsamples = 29\\nvalue = [0, 27, 2]'),\n",
    " Text(44.64, 130.464, 'gini = 0.0\\nsamples = 26\\nvalue = [0, 26, 0]'),\n",
    " Text(133.92000000000002, 130.464, 'X[1] <= 3.1\\ngini = 0.444\\nsamples = 3\\nvalue = [0, 1, 2]'),\n",
    " Text(89.28, 43.488, 'gini = 0.0\\nsamples = 2\\nvalue = [0, 0, 2]'),\n",
    " Text(178.56, 43.488, 'gini = 0.0\\nsamples = 1\\nvalue = [0, 1, 0]'),\n",
    " Text(178.56, 217.44, 'gini = 0.0\\nsamples = 27\\nvalue = [0, 0, 27]')]\n",
    "```\n",
    "\n",
    "![expected image ex 6-2](ex6-2.png \"Expected output ex 6-2\")"
   ]
  }
 ],
 "metadata": {
  "colab": {
   "name": "PythonAssessment-PT.ipynb",
   "provenance": []
  },
  "kernelspec": {
   "display_name": "Python 3",
   "language": "python",
   "name": "python3"
  },
  "language_info": {
   "codemirror_mode": {
    "name": "ipython",
    "version": 3
   },
   "file_extension": ".py",
   "mimetype": "text/x-python",
   "name": "python",
   "nbconvert_exporter": "python",
   "pygments_lexer": "ipython3",
   "version": "3.9.1"
  }
 },
 "nbformat": 4,
 "nbformat_minor": 5
}
